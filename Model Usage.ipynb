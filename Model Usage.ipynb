{
 "cells": [
  {
   "cell_type": "code",
   "execution_count": 1,
   "id": "4d92f9b3",
   "metadata": {},
   "outputs": [],
   "source": [
    "from joblib import dump, load\n",
    "model = load('Housing_valu.joblib')"
   ]
  },
  {
   "cell_type": "code",
   "execution_count": 37,
   "id": "256fa9de",
   "metadata": {},
   "outputs": [
    {
     "data": {
      "text/plain": [
       "array([26.558])"
      ]
     },
     "execution_count": 37,
     "metadata": {},
     "output_type": "execute_result"
    }
   ],
   "source": [
    "import numpy as np\n",
    "input_feature = np.array([[-0.42292925, -0.4898311 , -0.57719868, -0.27288841, -0.5573845 ,\n",
    "        0.73688444, -0.52225911,  0.37882487, -0.5429938 , -0.74402708,\n",
    "        0.52982668,  0.45343469, -0.81939807]])\n",
    "model.predict(input_feature)"
   ]
  },
  {
   "cell_type": "code",
   "execution_count": 29,
   "id": "b0e6c82a",
   "metadata": {},
   "outputs": [
    {
     "data": {
      "text/plain": [
       "array([23.374])"
      ]
     },
     "execution_count": 29,
     "metadata": {},
     "output_type": "execute_result"
    }
   ],
   "source": []
  },
  {
   "cell_type": "code",
   "execution_count": null,
   "id": "2e3ebdc6",
   "metadata": {},
   "outputs": [],
   "source": []
  }
 ],
 "metadata": {
  "kernelspec": {
   "display_name": "Python 3",
   "language": "python",
   "name": "python3"
  },
  "language_info": {
   "codemirror_mode": {
    "name": "ipython",
    "version": 3
   },
   "file_extension": ".py",
   "mimetype": "text/x-python",
   "name": "python",
   "nbconvert_exporter": "python",
   "pygments_lexer": "ipython3",
   "version": "3.9.4"
  }
 },
 "nbformat": 4,
 "nbformat_minor": 5
}
