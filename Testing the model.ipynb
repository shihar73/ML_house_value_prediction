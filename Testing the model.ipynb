{
 "cells": [
  {
   "cell_type": "markdown",
   "id": "442e901e",
   "metadata": {},
   "source": [
    "## Testing the model on test data"
   ]
  },
  {
   "cell_type": "code",
   "execution_count": 1,
   "id": "83ff77a0",
   "metadata": {},
   "outputs": [],
   "source": [
    "import pandas as pd\n",
    "from sklearn.model_selection import train_test_split as tts\n",
    "from sklearn.model_selection import StratifiedShuffleSplit"
   ]
  },
  {
   "cell_type": "code",
   "execution_count": 2,
   "id": "3de26c05",
   "metadata": {},
   "outputs": [],
   "source": [
    "housing = pd.read_csv('data.csv')"
   ]
  },
  {
   "cell_type": "code",
   "execution_count": 3,
   "id": "ab2543f1",
   "metadata": {},
   "outputs": [
    {
     "name": "stdout",
     "output_type": "stream",
     "text": [
      "Rows in train set : 404\n",
      "Rows in test set : 102\n"
     ]
    }
   ],
   "source": [
    "train_set, test_set = tts(housing, test_size=0.2, random_state=42)\n",
    "print(f\"Rows in train set : {len(train_set)}\\nRows in test set : {len(test_set)}\")"
   ]
  },
  {
   "cell_type": "code",
   "execution_count": 4,
   "id": "1a56a764",
   "metadata": {},
   "outputs": [],
   "source": [
    "split = StratifiedShuffleSplit(n_splits=1, test_size=0.2, random_state=42)\n",
    "for train_index, test_index in split.split(housing, housing['CHAS']):\n",
    "    start_train_set = housing.loc[train_index]\n",
    "    start_test_set = housing.loc[test_index]"
   ]
  },
  {
   "cell_type": "code",
   "execution_count": 5,
   "id": "d65edb58",
   "metadata": {},
   "outputs": [
    {
     "data": {
      "text/plain": [
       "0    95\n",
       "1     7\n",
       "Name: CHAS, dtype: int64"
      ]
     },
     "execution_count": 5,
     "metadata": {},
     "output_type": "execute_result"
    }
   ],
   "source": [
    "start_test_set[\"CHAS\"].value_counts()"
   ]
  },
  {
   "cell_type": "code",
   "execution_count": 6,
   "id": "3cd31e78",
   "metadata": {},
   "outputs": [],
   "source": [
    "from sklearn.pipeline import Pipeline\n",
    "from sklearn.preprocessing import StandardScaler\n",
    "from sklearn.impute import SimpleImputer\n",
    "imputer = SimpleImputer(strategy= 'median') \n",
    "imputer.fit(housing)\n",
    "my_pipeline = Pipeline([\n",
    "    ('imputer', SimpleImputer(strategy=\"median\")),\n",
    "    ('std_scaler', StandardScaler())\n",
    "])"
   ]
  },
  {
   "cell_type": "code",
   "execution_count": 7,
   "id": "5c44b29f",
   "metadata": {},
   "outputs": [],
   "source": [
    "test_data = start_test_set.drop(\"MEDV\", axis=1)\n",
    "test_valu = start_test_set[\"MEDV\"].copy()\n",
    "data_prediction = my_pipeline.fit_transform(test_data)"
   ]
  },
  {
   "cell_type": "code",
   "execution_count": 8,
   "id": "22d7955b",
   "metadata": {},
   "outputs": [],
   "source": [
    "from joblib import dump, load\n",
    "model = load('Housing_valu.joblib')"
   ]
  },
  {
   "cell_type": "code",
   "execution_count": 9,
   "id": "4c68a2de",
   "metadata": {},
   "outputs": [],
   "source": [
    "data_prediction = my_pipeline.transform(test_data)"
   ]
  },
  {
   "cell_type": "code",
   "execution_count": 12,
   "id": "5fcfe130",
   "metadata": {},
   "outputs": [],
   "source": [
    "finel_prediction = model.predict(data_prediction)"
   ]
  },
  {
   "cell_type": "code",
   "execution_count": 15,
   "id": "ffebece8",
   "metadata": {},
   "outputs": [
    {
     "name": "stdout",
     "output_type": "stream",
     "text": [
      "[24.601  9.858 25.586 21.244 17.234 14.507 19.499 14.433 32.271 42.567\n",
      " 19.08   8.89  23.806 32.298 20.375 12.116 32.287 14.52  23.26  17.11\n",
      " 19.52  15.129 16.791 21.571 18.426 31.264 16.914 31.648  9.471 33.681\n",
      " 24.093 21.177 22.776  8.908 20.27  12.805 42.075 23.992 24.076 43.954\n",
      " 23.302 26.602 20.07  21.876 15.512 32.499 45.306 20.998 18.993 22.34\n",
      " 21.511 14.748 19.079 14.134 25.107 34.007 43.323 28.741 18.063 21.229\n",
      " 47.741 10.753 19.051 23.224 13.635 38.958 19.4   16.923 17.993 33.396\n",
      " 25.675 22.635 20.076 23.08  35.628 13.418 15.689 20.121 21.348 21.857\n",
      " 22.498 21.798 13.551 23.146 21.242 21.99  14.251 21.225 22.349 23.547\n",
      " 17.742 27.225  8.11  26.298 15.366 30.096 20.036 31.47  13.801 26.674\n",
      " 18.141 17.533] [16.5, 10.2, 30.1, 23.0, 14.4, 15.6, 19.4, 14.1, 30.3, 35.2, 23.1, 13.8, 25.0, 27.9, 19.5, 12.3, 32.2, 13.5, 23.8, 21.7, 19.2, 19.5, 10.4, 23.2, 18.6, 28.5, 15.2, 32.0, 7.2, 34.6, 20.1, 20.6, 23.6, 13.1, 23.8, 12.7, 43.1, 24.7, 22.2, 44.0, 28.1, 31.0, 21.7, 23.4, 19.5, 33.1, 41.7, 18.7, 19.9, 20.6, 21.2, 13.6, 20.3, 17.8, 27.1, 31.5, 50.0, 29.1, 18.9, 20.4, 50.0, 7.2, 17.2, 36.2, 14.6, 33.2, 23.8, 19.9, 21.5, 37.3, 27.0, 22.0, 24.3, 19.8, 33.3, 7.0, 19.4, 20.9, 21.1, 20.4, 22.2, 11.9, 11.7, 21.6, 19.7, 23.0, 16.7, 21.7, 20.6, 23.3, 19.6, 28.0, 5.0, 24.4, 20.8, 24.8, 21.8, 23.6, 19.0, 25.0, 20.3, 21.5]\n"
     ]
    }
   ],
   "source": [
    "from sklearn.metrics import mean_squared_error\n",
    "import numpy as np\n",
    "finel_mse = mean_squared_error(test_valu, finel_prediction)\n",
    "finel_rmse = np.sqrt(finel_mse)\n",
    "print(finel_prediction, list(test_valu))"
   ]
  },
  {
   "cell_type": "code",
   "execution_count": 14,
   "id": "f09e3cc6",
   "metadata": {},
   "outputs": [
    {
     "name": "stdout",
     "output_type": "stream",
     "text": [
      "11.872728068627453\n"
     ]
    }
   ],
   "source": [
    "print(finel_mse)"
   ]
  },
  {
   "cell_type": "code",
   "execution_count": null,
   "id": "d4c65285",
   "metadata": {},
   "outputs": [],
   "source": []
  }
 ],
 "metadata": {
  "kernelspec": {
   "display_name": "Python 3 (ipykernel)",
   "language": "python",
   "name": "python3"
  },
  "language_info": {
   "codemirror_mode": {
    "name": "ipython",
    "version": 3
   },
   "file_extension": ".py",
   "mimetype": "text/x-python",
   "name": "python",
   "nbconvert_exporter": "python",
   "pygments_lexer": "ipython3",
   "version": "3.9.6"
  }
 },
 "nbformat": 4,
 "nbformat_minor": 5
}
